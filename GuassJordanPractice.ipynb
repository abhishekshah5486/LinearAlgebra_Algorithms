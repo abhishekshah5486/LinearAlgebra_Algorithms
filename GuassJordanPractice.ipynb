{
  "nbformat": 4,
  "nbformat_minor": 0,
  "metadata": {
    "colab": {
      "provenance": [],
      "authorship_tag": "ABX9TyNok/HlP3S8zHMwDOPIDHRH",
      "include_colab_link": true
    },
    "kernelspec": {
      "name": "python3",
      "display_name": "Python 3"
    },
    "language_info": {
      "name": "python"
    }
  },
  "cells": [
    {
      "cell_type": "markdown",
      "metadata": {
        "id": "view-in-github",
        "colab_type": "text"
      },
      "source": [
        "<a href=\"https://colab.research.google.com/github/abhishekshah5486/LinearAlgebra_Algorithms/blob/main/GuassJordanPractice.ipynb\" target=\"_parent\"><img src=\"https://colab.research.google.com/assets/colab-badge.svg\" alt=\"Open In Colab\"/></a>"
      ]
    },
    {
      "cell_type": "code",
      "execution_count": 1,
      "metadata": {
        "id": "QGHYllR6W0b6"
      },
      "outputs": [],
      "source": [
        "\n",
        "def solve(A, b):\n",
        "    rows = len(A)\n",
        "    cols = len(A[0])\n",
        "\n",
        "    # Check if the matrix is square\n",
        "    if rows != cols:\n",
        "        return -1\n",
        "\n",
        "    matrix = []\n",
        "    for i in range (len(A)):\n",
        "        tempArr = []\n",
        "        for j in range(len(A)):\n",
        "          tempArr.append(A[i][j])\n",
        "        tempArr.append(b[i])\n",
        "        matrix.append(tempArr)\n",
        "\n",
        "    # Gauss-Jordan elimination\n",
        "    for i in range(rows):\n",
        "        #Partial Pivoting\n",
        "        max_abs_value = abs(matrix[i][i])\n",
        "        max_row = i\n",
        "        for j in range(i + 1, rows):\n",
        "            abs_value = abs(matrix[j][i])\n",
        "            if abs_value > max_abs_value:\n",
        "                max_abs_value = abs_value\n",
        "                max_row = j\n",
        "        # Swapping the current row with the row with maximum abs value in the ith column\n",
        "        matrix[i], matrix[max_row] = matrix[max_row], matrix[i]\n",
        "\n",
        "        pivot = matrix[i][i]\n",
        "        for j in range(cols+1):\n",
        "            matrix[i][j] = matrix[i][j]/pivot\n",
        "        for j in range(rows):\n",
        "            if (i != j):\n",
        "                ratio = matrix[j][i]/matrix[i][i]\n",
        "                for k in range(cols+1):\n",
        "                    matrix[j][k] = matrix[j][k]-ratio*matrix[i][k]\n",
        "\n",
        "    # Extract solution\n",
        "    for i in range(rows):\n",
        "        if (matrix[i][i] != matrix[i][-1] and matrix[i][i]==0):\n",
        "            return -1\n",
        "    for i in range(rows):\n",
        "        if (matrix[i][i]==matrix[i][-1] and matrix[i][i]==0):\n",
        "            return -2\n",
        "\n",
        "    solution = [row[-1] for row in matrix]\n",
        "\n",
        "    return solution\n",
        "\n",
        "def det(A):\n",
        "    \"\"\"Calculates the determinant of A recursively.\"\"\"\n",
        "    rows = len(A)\n",
        "    cols = len(A[0])\n",
        "\n",
        "    # Base cases\n",
        "    if rows != cols:\n",
        "        return 0\n",
        "    elif rows == 1:\n",
        "        return A[0][0]\n",
        "    elif rows == 2:\n",
        "        return A[0][0] * A[1][1] - A[0][1] * A[1][0]\n",
        "\n",
        "    determinant = 0\n",
        "    for i in range(cols):\n",
        "        minor = []\n",
        "        for j in range(1,rows):\n",
        "            temp = []\n",
        "            for k in range(cols):\n",
        "                if (i != k):\n",
        "                    temp.append(A[j][k])\n",
        "            minor.append(temp)\n",
        "        index = 1+(i+1)\n",
        "        if (index%2 ==  0):\n",
        "            determinant = determinant + A[0][i]*det(minor)\n",
        "        else:\n",
        "            determinant = determinant + (-1)*A[0][i]*det(minor)\n",
        "\n",
        "    return determinant"
      ]
    }
  ]
}