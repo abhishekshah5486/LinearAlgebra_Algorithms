{
  "nbformat": 4,
  "nbformat_minor": 0,
  "metadata": {
    "colab": {
      "provenance": [],
      "authorship_tag": "ABX9TyOyH33THPV5DdoOoJMHXow+",
      "include_colab_link": true
    },
    "kernelspec": {
      "name": "python3",
      "display_name": "Python 3"
    },
    "language_info": {
      "name": "python"
    }
  },
  "cells": [
    {
      "cell_type": "markdown",
      "metadata": {
        "id": "view-in-github",
        "colab_type": "text"
      },
      "source": [
        "<a href=\"https://colab.research.google.com/github/abhishekshah5486/LinearAlgebra_Algorithms/blob/main/Guass_JordanAlgorithm.ipynb\" target=\"_parent\"><img src=\"https://colab.research.google.com/assets/colab-badge.svg\" alt=\"Open In Colab\"/></a>"
      ]
    },
    {
      "cell_type": "code",
      "execution_count": null,
      "metadata": {
        "colab": {
          "base_uri": "https://localhost:8080/"
        },
        "id": "1ZCSNftZDblU",
        "outputId": "eb230142-350a-4f19-f39d-508ef6b926dc"
      },
      "outputs": [
        {
          "output_type": "stream",
          "name": "stdout",
          "text": [
            "Enter the number of variables : 3\n",
            "Enter the coefficients of augmented matrix: \n",
            "A[0][0]=1\n",
            "A[0][1]=1\n",
            "A[0][2]=1\n",
            "A[0][3]=9\n",
            "A[1][0]=6\n",
            "A[1][1]=-1\n",
            "A[1][2]=1\n",
            "A[1][3]=13\n",
            "A[2][0]=10\n",
            "A[2][1]=1\n",
            "A[2][2]=-1\n",
            "A[2][3]=19\n",
            "Reduced Echelon form of Matrix : \n",
            "[[  1.           0.           0.           2.        ]\n",
            " [  0.          -7.           0.         -21.        ]\n",
            " [  0.           0.          -4.57142857 -18.28571429]]\n",
            "x0 = 2.00\n",
            "x1 = 3.00\n",
            "x2 = 4.00\n"
          ]
        }
      ],
      "source": [
        "import numpy as np;\n",
        "\n",
        "def guassJordan():\n",
        "    n = int(input(\"Enter the number of variables : \"))\n",
        "    A = np.zeros((n,n+1))\n",
        "    x = np.zeros(n);\n",
        "\n",
        "    print(\"Enter the coefficients of augmented matrix: \")\n",
        "    for i in range(n):\n",
        "        for j in range(n+1):\n",
        "           A[i][j] = float(input('A['+str(i)+']['+str(j)+']='))\n",
        "\n",
        "    for i in range(n):\n",
        "      if (A[i][i] == 0.0):\n",
        "        print(\"Error ! Division By Zero\")\n",
        "        break\n",
        "      for j in range(n):\n",
        "        if (i != j):\n",
        "          r = A[j][i]/A[i][i]\n",
        "          for k in range(n+1):\n",
        "            A[j][k] = A[j][k] - r*A[i][k]\n",
        "    print('Reduced Echelon form of Matrix : ')\n",
        "    print(A)\n",
        "\n",
        "    for i in range(n):\n",
        "      x[i] = A[i][n]/A[i][i]\n",
        "      print('x%d = %0.2f' %(i,x[i]), end='\\n')\n",
        "\n",
        "guassJordan()"
      ]
    },
    {
      "cell_type": "code",
      "source": [],
      "metadata": {
        "id": "02sU-EpID-jw"
      },
      "execution_count": null,
      "outputs": []
    }
  ]
}