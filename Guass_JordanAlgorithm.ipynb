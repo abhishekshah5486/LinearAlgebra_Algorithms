{
  "nbformat": 4,
  "nbformat_minor": 0,
  "metadata": {
    "colab": {
      "provenance": [],
      "authorship_tag": "ABX9TyObHvMe0KSTXMMABiE3v0SH",
      "include_colab_link": true
    },
    "kernelspec": {
      "name": "python3",
      "display_name": "Python 3"
    },
    "language_info": {
      "name": "python"
    }
  },
  "cells": [
    {
      "cell_type": "markdown",
      "metadata": {
        "id": "view-in-github",
        "colab_type": "text"
      },
      "source": [
        "<a href=\"https://colab.research.google.com/github/abhishekshah5486/LinearAlgebra_Algorithms/blob/main/Guass_JordanAlgorithm.ipynb\" target=\"_parent\"><img src=\"https://colab.research.google.com/assets/colab-badge.svg\" alt=\"Open In Colab\"/></a>"
      ]
    },
    {
      "cell_type": "code",
      "execution_count": 4,
      "metadata": {
        "colab": {
          "base_uri": "https://localhost:8080/"
        },
        "id": "1ZCSNftZDblU",
        "outputId": "b5bff227-5c88-4825-8333-8a5ef2b1d616"
      },
      "outputs": [
        {
          "output_type": "stream",
          "name": "stdout",
          "text": [
            "Enter the number of variables : 3\n",
            "Enter the coefficients of augmented matrix: \n",
            "A[0][0]=1\n",
            "A[0][1]=1\n",
            "A[0][2]=1\n",
            "A[0][3]=9\n",
            "A[1][0]=6\n",
            "A[1][1]=-1\n",
            "A[1][2]=1\n",
            "A[1][3]=13\n",
            "A[2][0]=10\n",
            "A[2][1]=1\n",
            "A[2][2]=-1\n",
            "A[2][3]=19\n",
            "Reduced Echelon form of Matrix : \n",
            "[[1.0, 0.0, 0.0, 2.0], [0.0, -7.0, 0.0, -21.0], [0.0, 0.0, -4.571428571428571, -18.285714285714285]]\n",
            "x0 = 2.00\n",
            "x1 = 3.00\n",
            "x2 = 4.00\n"
          ]
        }
      ],
      "source": [
        "def guassJordan():\n",
        "    matrix = []\n",
        "    n = int(input(\"Enter the number of variables : \"))\n",
        "    ans = []\n",
        "\n",
        "    print(\"Enter the coefficients of augmented matrix: \")\n",
        "    for i in range(n):\n",
        "        tempArr = []\n",
        "        for j in range(n+1):\n",
        "          temp = float(input('A['+str(i)+']['+str(j)+']='))\n",
        "          tempArr.append(temp)\n",
        "        matrix.append(tempArr)\n",
        "\n",
        "    for i in range(n):\n",
        "      if (matrix[i][i] == 0.0):\n",
        "        print(\"Error ! Division By Zero\")\n",
        "        break\n",
        "      for j in range(n):\n",
        "        if (i != j):\n",
        "          r = matrix[j][i]/matrix[i][i]\n",
        "          for k in range(n+1):\n",
        "            matrix[j][k] = matrix[j][k] - r*matrix[i][k]\n",
        "    print('Reduced Echelon form of Matrix : ')\n",
        "    print(matrix)\n",
        "\n",
        "    for i in range(n):\n",
        "      temp = matrix[i][n]/matrix[i][i]\n",
        "      ans.append(temp)\n",
        "      print('x%d = %0.2f' %(i,ans[i]), end='\\n')\n",
        "\n",
        "guassJordan()"
      ]
    },
    {
      "cell_type": "code",
      "source": [],
      "metadata": {
        "id": "02sU-EpID-jw"
      },
      "execution_count": null,
      "outputs": []
    }
  ]
}