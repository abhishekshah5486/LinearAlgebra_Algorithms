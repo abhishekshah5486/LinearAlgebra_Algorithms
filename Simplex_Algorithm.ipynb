{
  "nbformat": 4,
  "nbformat_minor": 0,
  "metadata": {
    "colab": {
      "provenance": [],
      "authorship_tag": "ABX9TyOqKqozq/IkDoOhHco69o20",
      "include_colab_link": true
    },
    "kernelspec": {
      "name": "python3",
      "display_name": "Python 3"
    },
    "language_info": {
      "name": "python"
    }
  },
  "cells": [
    {
      "cell_type": "markdown",
      "metadata": {
        "id": "view-in-github",
        "colab_type": "text"
      },
      "source": [
        "<a href=\"https://colab.research.google.com/github/abhishekshah5486/LinearAlgebra_Algorithms/blob/main/Simplex_Algorithm.ipynb\" target=\"_parent\"><img src=\"https://colab.research.google.com/assets/colab-badge.svg\" alt=\"Open In Colab\"/></a>"
      ]
    },
    {
      "cell_type": "code",
      "execution_count": 1,
      "metadata": {
        "id": "uEWywBDTQVSZ",
        "colab": {
          "base_uri": "https://localhost:8080/"
        },
        "outputId": "639a89cd-fdf7-4e7d-c063-15b10dda06ed"
      },
      "outputs": [
        {
          "output_type": "stream",
          "name": "stdout",
          "text": [
            "[[3, 5, 6, 1, 0, 0], [1, 1, 1, 0, 1, 0], [1, 1, 2, 0, 0, 1]]\n",
            "[80.0, 20.0, 100.0]\n",
            "([0, 80.0, 100.0], 23000.0)\n"
          ]
        }
      ],
      "source": [
        "def simplex(A, b, c):\n",
        "    \"\"\"\n",
        "    Solving the Linear Programming Problem using Simplex Method.\n",
        "\n",
        "    Returns the optimal value of the objective function.\n",
        "    A: Coefficients of the constraints.\n",
        "    b: Right hand side values of the constraints.\n",
        "    c: Coefficients of the objective function.\n",
        "    \"\"\"\n",
        "\n",
        "    n = len(A)\n",
        "    # Coefficient of Basic Variables\n",
        "    varIndex = [-1,-1,-1]\n",
        "    Xb = []\n",
        "    Zj = []\n",
        "    Cj = []\n",
        "    diff = []\n",
        "    for i in range(n):\n",
        "      Xb.append(0)\n",
        "\n",
        "    matrix = [] # Matrix Table\n",
        "    for i in range(n):\n",
        "       matrix.append(A[i])\n",
        "    for i in range(n):\n",
        "        temp = []\n",
        "        for j in range(n):\n",
        "            if (i == j):\n",
        "               temp.append(1)\n",
        "            else:\n",
        "               temp.append(0)\n",
        "        matrix[i] = (matrix[i] + temp)\n",
        "    print(matrix)\n",
        "    for i in range(len(matrix[0])):\n",
        "        Zj.append(0)\n",
        "        if (i < len(c)):\n",
        "           Cj.append(c[i])\n",
        "        else:\n",
        "           Cj.append(0)\n",
        "        diff.append(Zj[i]-Cj[i])\n",
        "\n",
        "    while (min(diff)<0):\n",
        "        pivotCol = diff.index(min(diff))\n",
        "        minRatio = float('inf')\n",
        "        pivotRow = -1\n",
        "\n",
        "        for i in range(n):\n",
        "            temp = b[i]/matrix[i][pivotCol]\n",
        "            if (temp < minRatio):\n",
        "              minRatio = temp\n",
        "              pivotRow = i\n",
        "\n",
        "        pivotVal = matrix[pivotRow][pivotCol]\n",
        "        b[pivotRow] = b[pivotRow]/pivotVal;\n",
        "        Xb[pivotRow] = Cj[pivotCol]\n",
        "        varIndex[pivotRow] = pivotCol\n",
        "\n",
        "        for i in range(len(matrix[0])):\n",
        "            matrix[pivotRow][i] = ( matrix[pivotRow][i] / pivotVal );\n",
        "\n",
        "        for i in range(n):\n",
        "            r = matrix[i][pivotCol]/matrix[pivotRow][pivotCol]\n",
        "            if (i != pivotRow):\n",
        "                b[i] = (b[i] - r*b[pivotRow])\n",
        "                for j in range(len(matrix[0])):\n",
        "                   matrix[i][j] = matrix[i][j] - r*matrix[pivotRow][j]\n",
        "\n",
        "        # Updating Zj and Difference of Zj and Cj\n",
        "        for i in range(len(matrix[0])):\n",
        "            tempSum = 0\n",
        "            for j in range(n):\n",
        "               tempSum = tempSum + Xb[j]*matrix[j][i]\n",
        "            Zj[i] = tempSum\n",
        "            diff[i] = (Zj[i] - Cj[i])\n",
        "\n",
        "    x = []\n",
        "    ans = 0\n",
        "    print(b)\n",
        "    for i in range(n):\n",
        "        if (Xb[i] != 0):\n",
        "           x.insert(varIndex[i],b[i])\n",
        "        else:\n",
        "           x.insert(varIndex[i],0)\n",
        "    for i in range(n):\n",
        "       ans = ans + x[i]*c[i]\n",
        "\n",
        "    return x, ans\n",
        "\n",
        "A = [\n",
        "      [3, 5, 6],\n",
        "      [1, 1, 1],\n",
        "      [1, 1, 2]\n",
        "    ]\n",
        "b = [1000, 200, 280]\n",
        "c = [50, 100, 150]\n",
        "print(simplex(A, b, c))\n"
      ]
    }
  ]
}